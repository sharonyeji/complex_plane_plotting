{
 "cells": [
  {
   "cell_type": "code",
   "execution_count": 3,
   "metadata": {
    "collapsed": false
   },
   "outputs": [
   ],
   "source": [
    "from cplane import ListComplexPlane"
   ]
  },
  {
   "cell_type": "markdown",
   "metadata": {
    "collapsed": false
   },
   "source": [
    "Sharon Kim, Eshan Yaghmaei\n",
    "\n",
    "10/3/2017\n",
    "# Classwork 05"
   ]
  },
  {
   "cell_type": "markdown",
   "metadata": {
    "collapsed": false
   },
   "source": [
    "## The Abstract Base Class\n",
    "Although the abstract base class does not do anything by itself, this module is extremely useful in providing the infrastructure for other subclasses. Because a subclass adopts the infrastructure of the abstract base class, the attributes, and modules of the abstract base class are used in the subclass.\n",
    "\n",
    "## The Complex Plane (cplane.py)\n",
    "The cplane was created to generate a 2D grid of numbers (x + y*1j) through defining the attributes given in the abstract base class.  It was also created so that after a grid of numbers are populated, they can be easily transformed through the function f to produce another 2D grid of numbers f(x + y*1j). It also has the functionality to regenerate the original 2D grid of complex numbers and clear all the function transformations that happened to the plane. The last functionality of cplane is that it can reset the parameters for the 2D grid of points and regenerate the grid, reapplying all collected functions to each point."
   ]
  },
  {
   "cell_type": "markdown",
   "metadata": {
    "collapsed": false
   },
   "source": [
    "## Demonstration"
   ]
  },
  {
   "cell_type": "code",
   "execution_count": 13,
   "metadata": {
    "collapsed": false
   },
   "outputs": [
    {
     "name": "stderr",
     "output_type": "stream",
     "text": [
      "/usr/local/lib/python3.5/dist-packages/numpy/core/numeric.py:583: ComplexWarning: Casting complex values to real discards the imaginary part\n",
      "  return array(a, dtype, copy=False, order=order, subok=True)\n"
     ]
    },
    {
     "data": {
      "image/png": "[encoded data removed]"
     },
     "execution_count": 13,
     "metadata": {
     },
     "output_type": "execute_result"
    }
   ],
   "source": [
    "#http://matplotlib.org/examples/shapes_and_collections/scatter_demo.html\n",
    "import matplotlib.pyplot as plt\n",
    "\n",
    "lcp = ListComplexPlane(-1, 1, 3, -1, 1, 3)\n",
    "plane = lcp.plane\n",
    "\n",
    "x = plane[0]\n",
    "y = plane[1]\n",
    "plt.scatter(x, y, color='red')\n",
    "plt.show();"
   ]
  }
 ],
 "metadata": {
  "kernelspec": {
   "display_name": "Python 3 (Ubuntu Linux)",
   "language": "python",
   "name": "python3"
  },
  "language_info": {
   "codemirror_mode": {
    "name": "ipython",
    "version": 3
   },
   "file_extension": ".py",
   "mimetype": "text/x-python",
   "name": "python",
   "nbconvert_exporter": "python",
   "pygments_lexer": "ipython3",
   "version": "3.5.2"
  }
 },
 "nbformat": 4,
 "nbformat_minor": 0
}