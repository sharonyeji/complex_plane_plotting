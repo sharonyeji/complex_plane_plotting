{
 "cells": [
  {
   "cell_type": "markdown",
   "metadata": {
    "collapsed": false
   },
   "source": [
    "## Critique of primes.py"
   ]
  },
  {
   "cell_type": "markdown",
   "metadata": {
    "collapsed": false
   },
   "source": [
    "#### Is it clear how the code is organized? \n",
    "\n",
    "EY:\n",
    "While the code maintains a level of organization, there are places of documentation in the code that does not follow the google standard.\n",
    "\n",
    "SK: \n",
    "The code is clearly organized and documented. Descriptions and examples are all given so that the code is easy to follow and understand.\n",
    "\n",
    "#### Is the code properly documented with both docstrings and supplementary comments according to industry standards? \n",
    "\n",
    "EY:\n",
    "The functions have decriptions under the function definintion. Althuogh at some part instead of qoutation mark, the pound sign '#' is used.\n",
    "\n",
    "SK:\n",
    "The functions has a description under the defintinion. \n",
    "\n",
    "#### Can you follow the algorithm of the code, i.e., what it is doing, and how? \n",
    "EY: \n",
    "The codes are well organized but there were no additional comments or examples about how the function runs. \n",
    "\n",
    "SK: \n",
    "There are many descitopns and examples for the functions. It is easy to follow what the function does. However, The spacing and indentation between the ''Args section'' is not based in Google Standard. \n",
    "\n",
    "#### Do you see any suggestions for how to improve the code? \n",
    "EY: \n",
    "Yes, under some functions giving an example or explaining the sections would be very helpful. For instance under the Generator function there is no explantion for command Yield or any demo of the output of the function.\n",
    "\n",
    "SK: \n",
    "The explanation of the modules are well documented, but it should be supplemented with more examples.\n",
    "\n",
    "#### Are there test cases for the code? Do the tests verify correct functionality?\n",
    "\n",
    "EY:\n",
    "There are no test cases for the code. Test cases should be added.\n",
    "\n",
    "SK:\n",
    "There are no test cases for the code. Test cases should be added.\n",
    "\n",
    "#### Are there tests that would have been good to include but are missing? \n",
    "\n",
    "EY: No there are no test cases\n",
    "\n",
    "SK: No there are no test cases\n",
    "\n",
    "#### Is the Jupyter notebook a clear discussion of the problem, solution, and outline of the algorithm used in the code? \n",
    "EY:\n",
    "In my opinion the description of the codes are very well detailed and concise but some part of the description and details of the codes dont belong to the document. My suggestion is to take the details and comments on the codes to the body of the code and by applying Google documentation format or other format standard we can describe the codes so then we save our Jupyter notebook space to describe what the problem is, and what is the result after applying the codes.\n",
    "\n",
    "SK:\n",
    "The Jupyter notebook that Eshan and his team created is extremely well made and has brought clarity to the functionality and purpose of the Jupyter notebook. It clearly states the problem, solution, and gives pictoral descriptions of the algorithm used in the code.\n",
    "\n",
    "#### On a scale of 0-100, the reviewer should rate the work produced by the reviewee. As the reviewer writes this critique and evaluation into the Jupyter notebook, the reviewer should discuss these questions and any issues that arise with the reviewee.\n",
    "\n",
    "EY:\n",
    "70\n",
    "\n",
    "SK:\n",
    "85"
   ]
  },
  {
   "cell_type": "code",
   "execution_count": 0,
   "metadata": {
    "collapsed": false
   },
   "outputs": [
   ],
   "source": [
   ]
  }
 ],
 "metadata": {
  "kernelspec": {
   "display_name": "Python 3 (Ubuntu Linux)",
   "language": "python",
   "name": "python3"
  },
  "language_info": {
   "codemirror_mode": {
    "name": "ipython",
    "version": 3
   },
   "file_extension": ".py",
   "mimetype": "text/x-python",
   "name": "python",
   "nbconvert_exporter": "python",
   "pygments_lexer": "ipython3",
   "version": "3.5.2"
  }
 },
 "nbformat": 4,
 "nbformat_minor": 0
}