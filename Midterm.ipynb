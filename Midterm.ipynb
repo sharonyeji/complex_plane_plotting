{
 "cells": [
  {
   "cell_type": "code",
   "execution_count": 0,
   "metadata": {},
   "outputs": [],
   "source": [
    " Create\n",
    "a supplementary Jupyter notebook Midterm.ipynb (5pt) that imports your python code and presents your\n",
    "results in a clean and clear way. Done properly, the notebook should contain almost no code (only simple\n",
    "function calls), and should focus on the discussion of the results of the code instead.\n"
   ]
  },
  {
   "cell_type": "code",
   "execution_count": 134,
   "metadata": {},
   "outputs": [
    {
     "data": {
      "text/plain": [
       "((1.8101264269902959-1.7469306159859459j), 2)"
      ]
     },
     "execution_count": 134,
     "metadata": {},
     "output_type": "execute_result"
    }
   ],
   "source": [
    "from midterm import newton_raphson, NewtonRaphson\n",
    "\n",
    "NewtonRaphson()"
   ]
  },
  {
   "cell_type": "code",
   "execution_count": 116,
   "metadata": {},
   "outputs": [
    {
     "data": {
      "text/plain": [
       "tuple"
      ]
     },
     "execution_count": 116,
     "metadata": {},
     "output_type": "execute_result"
    }
   ],
   "source": [
    "\"\"\"def newton_raphson(z):\n",
    "            f=np.poly1d([35, 0, -180, 0, 378, 0, -420, 0, 315, 0])\n",
    "            q=np.polyder(f)\n",
    "            zplus = z - (f(z)/q(z))\n",
    "            magnitude = abs(zplus-z)\n",
    "            n = 1\n",
    "            while magnitude > e:\n",
    "                n += 1\n",
    "                z = zplus\n",
    "                zplus = z - (f(z)/q(z))\n",
    "                magnitude = abs(zplus-z)\n",
    "            return zplus,n\"\"\"\n",
    "\n",
    "        #v=np.vectorize(self.newton_raphson(z))\n",
    "        #self.roots=v(self.plane)\n",
    "type(newton_raphson(0.015))\n",
    "\n",
    "def newton_raphson(x, max=100):\n",
    "        new = x\n",
    "        for n in range(max):\n",
    "            if q(new) == 0:\n",
    "                return new, n\n",
    "            ffprime=f(new)/q(new)\n",
    "            new=new-ffprime\n",
    "            if abs(ffprime) < e:\n",
    "                return new, n\n",
    "            \n",
    "        self.plane = self.plane.applymap(newton_raphson(z))\n"
   ]
  },
  {
   "cell_type": "code",
   "execution_count": 0,
   "metadata": {},
   "outputs": [],
   "source": [
    "from midterm import NewtonRaphson\n",
    "\n",
    "#-----Init the complex plane and set dx dy=0.01-----\n",
    "nr1= NewtonRaphson(-2, 2, 400, -2, 2, 400)\n",
    "\n",
    "#-----Apply the findroot function (NewtonRaphson) and set the roots and the iteration number into a tuple data\n",
    "nr1.apply()\n",
    "\n",
    "#-----Find the 9 unique roots----\n",
    "nr1.getUniqueRoots()\n",
    "nr1.finalroot\n",
    "\n",
    "#-----plot----\n",
    "nr1.imPlot()\n",
    "\n",
    "\n",
    "[9:27] \n",
    "similar like this"
   ]
  }
 ],
 "metadata": {
  "kernelspec": {
   "display_name": "Python 3",
   "language": "python",
   "name": "python3"
  },
  "language_info": {
   "codemirror_mode": {
    "name": "ipython",
    "version": 3
   },
   "file_extension": ".py",
   "mimetype": "text/x-python",
   "name": "python",
   "nbconvert_exporter": "python",
   "pygments_lexer": "ipython3",
   "version": "3.7.0"
  }
 },
 "nbformat": 4,
 "nbformat_minor": 1
}
